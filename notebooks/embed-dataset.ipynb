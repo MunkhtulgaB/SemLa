{
 "cells": [
  {
   "cell_type": "markdown",
   "id": "c79f2f95",
   "metadata": {},
   "source": [
    "# Text spatialization"
   ]
  },
  {
   "cell_type": "markdown",
   "id": "5118367a",
   "metadata": {},
   "source": [
    "This notebook demonstrates an example of how to embed and predict text samples using large language models (LLMs) and prepare them for 2D visualization using dimension reduction."
   ]
  },
  {
   "cell_type": "markdown",
   "id": "6eaa728a",
   "metadata": {},
   "source": [
    "# Prepare data"
   ]
  },
  {
   "cell_type": "markdown",
   "id": "cbbb55b4",
   "metadata": {},
   "source": [
    "## Load dataset"
   ]
  },
  {
   "cell_type": "markdown",
   "id": "b5a83e97",
   "metadata": {},
   "source": [
    "We load the dataset from two alternative sources:\n",
    "\n",
    "1. From file (download BANKING77, HWU64, CLINC150 from https://github.com/alexa/dialoglue)\n",
    "2. From HuggingFace (see available datasets from https://huggingface.co/datasets)\n",
    "\n",
    "In this example, we load BANKING77 from HuggingFace Datasets."
   ]
  },
  {
   "cell_type": "code",
   "execution_count": 1,
   "id": "c03b2282",
   "metadata": {},
   "outputs": [
    {
     "name": "stderr",
     "output_type": "stream",
     "text": [
      "Using custom data configuration default\n",
      "Reusing dataset banking77 (/home/mojo/.cache/huggingface/datasets/banking77/default/1.1.0/aec0289529599d4572d76ab00c8944cb84f88410ad0c9e7da26189d31f62a55b)\n"
     ]
    }
   ],
   "source": [
    "from datasets import load_dataset\n",
    "\n",
    "dataset = \"banking77\"\n",
    "raw_datasets = load_dataset(dataset)"
   ]
  },
  {
   "cell_type": "code",
   "execution_count": 2,
   "id": "c490f152",
   "metadata": {},
   "outputs": [
    {
     "data": {
      "text/plain": [
       "Dataset({\n",
       "    features: ['text', 'label'],\n",
       "    num_rows: 3080\n",
       "})"
      ]
     },
     "execution_count": 2,
     "metadata": {},
     "output_type": "execute_result"
    }
   ],
   "source": [
    "target_dataset = raw_datasets[\"test\"]\n",
    "label_map = None\n",
    "target_dataset"
   ]
  },
  {
   "cell_type": "code",
   "execution_count": 3,
   "id": "4965693a",
   "metadata": {},
   "outputs": [
    {
     "data": {
      "text/plain": [
       "{'text': 'How do I track my card?', 'label': 11}"
      ]
     },
     "execution_count": 3,
     "metadata": {},
     "output_type": "execute_result"
    }
   ],
   "source": [
    "# see an example data instance\n",
    "target_dataset[10]"
   ]
  },
  {
   "cell_type": "markdown",
   "id": "7d6140be",
   "metadata": {
    "heading_collapsed": true
   },
   "source": [
    "## Label-encoding"
   ]
  },
  {
   "cell_type": "markdown",
   "id": "74be321f",
   "metadata": {
    "hidden": true
   },
   "source": [
    "Since some datasets have encoded numeric labels and some do not, we use label-encoding in any case to normalize the datasets."
   ]
  },
  {
   "cell_type": "code",
   "execution_count": 4,
   "id": "1a4dafab",
   "metadata": {
    "hidden": true
   },
   "outputs": [
    {
     "name": "stderr",
     "output_type": "stream",
     "text": [
      "Loading cached processed dataset at /home/mojo/.cache/huggingface/datasets/banking77/default/1.1.0/aec0289529599d4572d76ab00c8944cb84f88410ad0c9e7da26189d31f62a55b/cache-bfeeac043f5223b2.arrow\n"
     ]
    }
   ],
   "source": [
    "# Label encode the labels\n",
    "from sklearn import preprocessing\n",
    "le = preprocessing.LabelEncoder()\n",
    "le.fit(target_dataset[\"label\"])\n",
    "\n",
    "def label_encode_fn(examples):\n",
    "    encoded_labels = list(le.transform([examples[\"label\"]]))\n",
    "    return {\"label\": encoded_labels[0]}\n",
    "    \n",
    "target_dataset = target_dataset.map(label_encode_fn, batched=False)"
   ]
  },
  {
   "cell_type": "code",
   "execution_count": 5,
   "id": "d1d3609f",
   "metadata": {
    "hidden": true
   },
   "outputs": [],
   "source": [
    "# map from each label to the indices of the corresponding data samples\n",
    "from collections import defaultdict\n",
    "label_to_indices = defaultdict(list)\n",
    "\n",
    "for i, label in enumerate(target_dataset[\"label\"]):\n",
    "    label_to_indices[label].append(i)"
   ]
  },
  {
   "cell_type": "code",
   "execution_count": 6,
   "id": "1e4f6b6f",
   "metadata": {
    "hidden": true
   },
   "outputs": [],
   "source": [
    "# sanity check\n",
    "for label in label_to_indices:\n",
    "    indices = label_to_indices[label]\n",
    "    assert not any(lbl != label for lbl in target_dataset[indices][\"label\"])"
   ]
  },
  {
   "cell_type": "markdown",
   "id": "58170ed2",
   "metadata": {},
   "source": [
    "## Embed"
   ]
  },
  {
   "cell_type": "markdown",
   "id": "7246fe84",
   "metadata": {},
   "source": [
    "Embedding is simple. We embed data samples using both encoder LMs (BERT-like) and decoder LMs (GPT-like) using HuggingFace and OpenAI API respectively. With HuggingFace, you can easily load your own models or models from the HuggingFace Hub (https://huggingface.co/models).\n",
    "\n",
    "For this example, we use an off-the-shelf model (https://huggingface.co/philschmid/BERT-Banking77)"
   ]
  },
  {
   "cell_type": "markdown",
   "id": "cb7570b9",
   "metadata": {},
   "source": [
    "### Load model"
   ]
  },
  {
   "cell_type": "code",
   "execution_count": 7,
   "id": "e34b0b9c",
   "metadata": {},
   "outputs": [],
   "source": [
    "model_name = \"philschmid/BERT-Banking77\""
   ]
  },
  {
   "cell_type": "code",
   "execution_count": 8,
   "id": "bec90c4d",
   "metadata": {},
   "outputs": [
    {
     "name": "stderr",
     "output_type": "stream",
     "text": [
      "Some weights of the model checkpoint at philschmid/BERT-Banking77 were not used when initializing BertModel: ['classifier.weight', 'classifier.bias']\n",
      "- This IS expected if you are initializing BertModel from the checkpoint of a model trained on another task or with another architecture (e.g. initializing a BertForSequenceClassification model from a BertForPreTraining model).\n",
      "- This IS NOT expected if you are initializing BertModel from the checkpoint of a model that you expect to be exactly identical (initializing a BertForSequenceClassification model from a BertForSequenceClassification model).\n"
     ]
    },
    {
     "name": "stdout",
     "output_type": "stream",
     "text": [
      "Loaded model philschmid/BERT-Banking77\n"
     ]
    }
   ],
   "source": [
    "# initialize model\n",
    "\n",
    "if model_name == \"gpt-3\":\n",
    "    import openai\n",
    "    model_name = \"text-embedding-ada-002\"\n",
    "else:\n",
    "    from transformers import AutoTokenizer, AutoModel\n",
    "    tokenizer = AutoTokenizer.from_pretrained(model_name)\n",
    "    model = AutoModel.from_pretrained(model_name)\n",
    "    \n",
    "print(\"Loaded model\", model_name)"
   ]
  },
  {
   "cell_type": "markdown",
   "id": "05a2dd1e",
   "metadata": {
    "heading_collapsed": true
   },
   "source": [
    "### Define the function for embedding a given text sample"
   ]
  },
  {
   "cell_type": "code",
   "execution_count": 9,
   "id": "3bdf6572",
   "metadata": {
    "hidden": true
   },
   "outputs": [],
   "source": [
    "import torch\n",
    "\n",
    "def embed(text, model_name):\n",
    "    if model_name == \"gpt-3\":\n",
    "        text = text.replace(\"\\n\", \" \")\n",
    "        return openai.Embedding.create(input = [text], model=model_name)['data'][0]['embedding']\n",
    "    else:\n",
    "        with torch.no_grad():\n",
    "            tokenized_inputs = tokenizer(text, return_tensors=\"pt\")\n",
    "            model_output = model(**tokenized_inputs)\n",
    "            return model_output.last_hidden_state.squeeze()[0].tolist()"
   ]
  },
  {
   "cell_type": "markdown",
   "id": "6681d959",
   "metadata": {
    "heading_collapsed": true
   },
   "source": [
    "### Embed all samples in the dataset"
   ]
  },
  {
   "cell_type": "code",
   "execution_count": 10,
   "id": "3fd5f1e6",
   "metadata": {
    "hidden": true
   },
   "outputs": [],
   "source": [
    "encodings = []"
   ]
  },
  {
   "cell_type": "code",
   "execution_count": 11,
   "id": "39e1c248",
   "metadata": {
    "hidden": true
   },
   "outputs": [
    {
     "data": {
      "application/vnd.jupyter.widget-view+json": {
       "model_id": "0258f09dc32040bea6fdfa5ff0984c4c",
       "version_major": 2,
       "version_minor": 0
      },
      "text/plain": [
       "  0%|          | 0/3080 [00:00<?, ?it/s]"
      ]
     },
     "metadata": {},
     "output_type": "display_data"
    }
   ],
   "source": [
    "from tqdm.auto import tqdm\n",
    "\n",
    "texts = target_dataset[\"text\"]\n",
    "num_tokens = [len(txt.split(\" \")) for txt in texts]\n",
    "num_tokens_in_K = (1.33 * sum(num_tokens)) / 1000\n",
    "PRICE = 0.0004 # $ per 1000 tokens\n",
    "price_estimate = \"{:.2f}\".format(PRICE * num_tokens_in_K)\n",
    "\n",
    "if model_name == \"gpt-3\":\n",
    "    if input(f\"The price estimate for {dataset} is {price_estimate}$ with {model_name}. Confirm run? [Yes/No] \") == \"Yes\":\n",
    "        for text in tqdm(texts):\n",
    "            embedding = embed(text, model_name)\n",
    "            encodings.append(embedding)\n",
    "else: \n",
    "    for text in tqdm(texts):\n",
    "            embedding = embed(text, model_name)\n",
    "            encodings.append(embedding)"
   ]
  },
  {
   "cell_type": "code",
   "execution_count": 12,
   "id": "15ca6303",
   "metadata": {
    "hidden": true
   },
   "outputs": [
    {
     "data": {
      "text/plain": [
       "3080"
      ]
     },
     "execution_count": 12,
     "metadata": {},
     "output_type": "execute_result"
    }
   ],
   "source": [
    "len(encodings)"
   ]
  },
  {
   "cell_type": "markdown",
   "id": "02b750e4",
   "metadata": {},
   "source": [
    "### Save the encodings to file"
   ]
  },
  {
   "cell_type": "code",
   "execution_count": 13,
   "id": "4ccdc816",
   "metadata": {},
   "outputs": [
    {
     "name": "stdout",
     "output_type": "stream",
     "text": [
      "results/banking77-with-BERT-Banking77\n"
     ]
    }
   ],
   "source": [
    "import json\n",
    "import os\n",
    "\n",
    "model_name_short = model_name.split(\"/\")[-1]\n",
    "dataset_name_short = dataset.split(\"/\")[-1]\n",
    "output_dir = f\"results/{dataset_name_short}-with-{model_name_short}\"\n",
    "if not os.path.isdir(output_dir):\n",
    "    os.makedirs(output_dir)\n",
    "print(output_dir)"
   ]
  },
  {
   "cell_type": "code",
   "execution_count": 14,
   "id": "0c4696c1",
   "metadata": {},
   "outputs": [],
   "source": [
    "import json\n",
    "import os\n",
    "\n",
    "with open(f\"{output_dir}/encodings.json\", \"w\") as f:\n",
    "    json.dump(list(encodings), f)"
   ]
  },
  {
   "cell_type": "markdown",
   "id": "83a20ff9",
   "metadata": {},
   "source": [
    "Load back from file to check"
   ]
  },
  {
   "cell_type": "code",
   "execution_count": 15,
   "id": "885c9678",
   "metadata": {},
   "outputs": [],
   "source": [
    "import numpy as np\n",
    "import json\n",
    "\n",
    "model_name_short = model_name.split(\"/\")[-1]\n",
    "dataset_name_short = dataset.split(\"/\")[-1]\n",
    "output_dir = f\"results/{dataset_name_short}-with-{model_name_short}\"\n",
    "with open(f\"{output_dir}/encodings.json\", \"r\") as f:\n",
    "    encodings = json.load(f)\n",
    "encodings = np.array(encodings)"
   ]
  },
  {
   "cell_type": "code",
   "execution_count": 16,
   "id": "29e561ab",
   "metadata": {},
   "outputs": [
    {
     "data": {
      "text/plain": [
       "'results/banking77-with-BERT-Banking77'"
      ]
     },
     "execution_count": 16,
     "metadata": {},
     "output_type": "execute_result"
    }
   ],
   "source": [
    "output_dir"
   ]
  },
  {
   "cell_type": "code",
   "execution_count": 17,
   "id": "13c9620b",
   "metadata": {},
   "outputs": [
    {
     "data": {
      "text/plain": [
       "(3080, 768)"
      ]
     },
     "execution_count": 17,
     "metadata": {},
     "output_type": "execute_result"
    }
   ],
   "source": [
    "encodings.shape"
   ]
  },
  {
   "cell_type": "markdown",
   "id": "81313af5",
   "metadata": {
    "heading_collapsed": true
   },
   "source": [
    "## Few-shot classification"
   ]
  },
  {
   "cell_type": "markdown",
   "id": "3ef7ba79",
   "metadata": {
    "hidden": true
   },
   "source": [
    "### Define the prediction function"
   ]
  },
  {
   "cell_type": "code",
   "execution_count": 18,
   "id": "b13c2b0b",
   "metadata": {
    "hidden": true
   },
   "outputs": [],
   "source": [
    "import random\n",
    "\n",
    "\n",
    "random.seed(0)\n",
    "\n",
    "def sample_query_and_support_sets(n, k, m):\n",
    "    \"\"\"\n",
    "    Direct quote: \n",
    "\n",
    "    In an episode of a n-way k-shot text classification problem, n classes are sampled from corresponding class set\n",
    "    (Chen et al. 2022)\n",
    "\n",
    "\n",
    "    Direct quote:\n",
    "    ...for each of the n classes, k labeled texts are sampled to compose the support set, and m unlabeled texts\n",
    "    are sampled to compose the query set.\n",
    "    (Chen et al. 2022)\n",
    "    \"\"\"\n",
    "    query_set = []\n",
    "    support_set = []\n",
    "    n_classes = random.sample(set(target_dataset[\"label\"]), n)\n",
    "    \n",
    "    for label in n_classes:\n",
    "        indices = label_to_indices[label].copy()\n",
    "        samples = random.sample(indices, k + m)\n",
    "        support_set_for_label = samples[:k]\n",
    "        support_set += support_set_for_label\n",
    "        query_set += samples[k:]\n",
    "\n",
    "    return query_set, support_set"
   ]
  },
  {
   "cell_type": "code",
   "execution_count": 19,
   "id": "9e710830",
   "metadata": {
    "hidden": true
   },
   "outputs": [],
   "source": [
    "def sample_support_set(n, k, must_have):\n",
    "    support_set = []\n",
    "    all_classes_except_must_have = [i for i in range(len(le.classes_)) if i != must_have]\n",
    "    n_classes = [must_have] + random.sample(all_classes_except_must_have, n-1)\n",
    "\n",
    "    for label in n_classes:\n",
    "        indices = label_to_indices[label].copy()\n",
    "        support_set_for_label = random.sample(indices, k)\n",
    "        support_set += support_set_for_label\n",
    "    return support_set"
   ]
  },
  {
   "cell_type": "code",
   "execution_count": 20,
   "id": "5e1702aa",
   "metadata": {
    "hidden": true
   },
   "outputs": [
    {
     "data": {
      "text/plain": [
       "[2992, 2271, 905, 1059, 190]"
      ]
     },
     "execution_count": 20,
     "metadata": {},
     "output_type": "execute_result"
    }
   ],
   "source": [
    "support_set = sample_support_set(5, 1, 2)\n",
    "support_set"
   ]
  },
  {
   "cell_type": "code",
   "execution_count": 21,
   "id": "d056bea9",
   "metadata": {
    "hidden": true
   },
   "outputs": [
    {
     "data": {
      "text/plain": [
       "([1606, 1616, 1164, 1181],\n",
       " [1613, 1632, 1608, 1618, 1637, 1194, 1198, 1169, 1179, 1166])"
      ]
     },
     "execution_count": 21,
     "metadata": {},
     "output_type": "execute_result"
    }
   ],
   "source": [
    "sample_query_and_support_sets(2, 5, 2)"
   ]
  },
  {
   "cell_type": "code",
   "execution_count": 22,
   "id": "4f5c645c",
   "metadata": {
    "hidden": true
   },
   "outputs": [],
   "source": [
    "# Then, a method to get the cached encodings\n",
    "def get_encodings(idxs, encoding_type=\"cls\"):\n",
    "    return encodings[idxs]"
   ]
  },
  {
   "cell_type": "code",
   "execution_count": 23,
   "id": "a1fe2997",
   "metadata": {
    "hidden": true
   },
   "outputs": [],
   "source": [
    "\"\"\"\n",
    "How to make a prediction:\n",
    "\n",
    "Specifically, given a query text xq ∈ Q, we first obtain its representation f(xq) and representations \n",
    "of all texts in the support set {f(xs)}, then the label of query text xq is determined as the label of the\n",
    "support-text whose representation f(xs) has the maximum inner product with f(xq).\n",
    "\"\"\"\n",
    "\n",
    "def predict(q, s_set):\n",
    "    xs_set = get_encodings(s_set)\n",
    "    xq_set = get_encodings([q])\n",
    "    \n",
    "    distances = np.inner(xq_set, xs_set)\n",
    "    nn_idx = s_set[np.argmax(distances)]\n",
    "    label = target_dataset[\"label\"][nn_idx]\n",
    "    target_dataset[q][\"prediction\"] = label\n",
    "    return label, distances.tolist()"
   ]
  },
  {
   "cell_type": "code",
   "execution_count": 24,
   "id": "fd54539a",
   "metadata": {
    "hidden": true
   },
   "outputs": [
    {
     "data": {
      "text/plain": [
       "(6,\n",
       " [[-9.111044696388465,\n",
       "   15.501294235610938,\n",
       "   14.762332633208318,\n",
       "   28.9683928354836,\n",
       "   -16.373702992470072]])"
      ]
     },
     "execution_count": 24,
     "metadata": {},
     "output_type": "execute_result"
    }
   ],
   "source": [
    "label, distances = predict(0, support_set)\n",
    "label, distances"
   ]
  },
  {
   "cell_type": "markdown",
   "id": "3dfa7daf",
   "metadata": {
    "hidden": true
   },
   "source": [
    "### Predict all examples and save the results in format for SemLa"
   ]
  },
  {
   "cell_type": "code",
   "execution_count": 25,
   "id": "55bd37da",
   "metadata": {
    "hidden": true
   },
   "outputs": [
    {
     "data": {
      "application/vnd.jupyter.widget-view+json": {
       "model_id": "e3274825baa24631ac9f58ce93a829bd",
       "version_major": 2,
       "version_minor": 0
      },
      "text/plain": [
       "  0%|          | 0/3080 [00:00<?, ?it/s]"
      ]
     },
     "metadata": {},
     "output_type": "display_data"
    }
   ],
   "source": [
    "from tqdm.auto import tqdm\n",
    "n = 5\n",
    "k = 1\n",
    "\n",
    "\n",
    "results = []\n",
    "\n",
    "for i in tqdm(range(len((target_dataset)))):\n",
    "    example = target_dataset[i]\n",
    "    ground_truth = example[\"label\"]\n",
    "    support_set = sample_support_set(n, k, example[\"label\"])\n",
    "    prediction, distances = predict(i, support_set)\n",
    "    \n",
    "    result_entry = {\n",
    "        \"idx\": i,\n",
    "        \"text\": example[\"text\"],\n",
    "        \"support_set\": support_set,\n",
    "        \"distances\": distances,\n",
    "        \"prediction_label_idx\": prediction, \n",
    "        \"ground_truth_label_idx\": ground_truth, \n",
    "    }\n",
    "\n",
    "    results.append(result_entry)"
   ]
  },
  {
   "cell_type": "code",
   "execution_count": 26,
   "id": "cb77619d",
   "metadata": {
    "hidden": true
   },
   "outputs": [],
   "source": [
    "predictions = [res[\"prediction_label_idx\"] for res in results]\n",
    "labels = [res[\"ground_truth_label_idx\"] for res in results]"
   ]
  },
  {
   "cell_type": "code",
   "execution_count": 27,
   "id": "7155a916",
   "metadata": {
    "hidden": true
   },
   "outputs": [
    {
     "data": {
      "text/plain": [
       "[(11, 11),\n",
       " (11, 11),\n",
       " (11, 11),\n",
       " (11, 11),\n",
       " (11, 11),\n",
       " (11, 11),\n",
       " (11, 11),\n",
       " (11, 11),\n",
       " (11, 11),\n",
       " (11, 11),\n",
       " (11, 11),\n",
       " (11, 11),\n",
       " (11, 11),\n",
       " (11, 11),\n",
       " (11, 11),\n",
       " (11, 11),\n",
       " (11, 11),\n",
       " (11, 11),\n",
       " (11, 11),\n",
       " (11, 11),\n",
       " (11, 11),\n",
       " (40, 11),\n",
       " (11, 11),\n",
       " (11, 11),\n",
       " (11, 11),\n",
       " (11, 11),\n",
       " (11, 11),\n",
       " (11, 11),\n",
       " (11, 11),\n",
       " (11, 11),\n",
       " (11, 11),\n",
       " (11, 11),\n",
       " (12, 11),\n",
       " (11, 11),\n",
       " (11, 11),\n",
       " (11, 11),\n",
       " (11, 11),\n",
       " (12, 11),\n",
       " (11, 11),\n",
       " (11, 11),\n",
       " (13, 13),\n",
       " (13, 13),\n",
       " (13, 13),\n",
       " (13, 13),\n",
       " (13, 13),\n",
       " (13, 13),\n",
       " (13, 13),\n",
       " (13, 13),\n",
       " (13, 13),\n",
       " (13, 13),\n",
       " (13, 13),\n",
       " (13, 13),\n",
       " (13, 13),\n",
       " (13, 13),\n",
       " (13, 13),\n",
       " (13, 13),\n",
       " (13, 13),\n",
       " (13, 13),\n",
       " (13, 13),\n",
       " (13, 13),\n",
       " (13, 13),\n",
       " (13, 13),\n",
       " (13, 13),\n",
       " (13, 13),\n",
       " (13, 13),\n",
       " (13, 13),\n",
       " (13, 13),\n",
       " (13, 13),\n",
       " (13, 13),\n",
       " (13, 13),\n",
       " (13, 13),\n",
       " (13, 13),\n",
       " (13, 13),\n",
       " (13, 13),\n",
       " (13, 13),\n",
       " (13, 13),\n",
       " (13, 13),\n",
       " (13, 13),\n",
       " (13, 13),\n",
       " (13, 13),\n",
       " (32, 32),\n",
       " (32, 32),\n",
       " (32, 32),\n",
       " (32, 32),\n",
       " (32, 32),\n",
       " (32, 32),\n",
       " (32, 32),\n",
       " (32, 32),\n",
       " (32, 32),\n",
       " (32, 32),\n",
       " (32, 32),\n",
       " (32, 32),\n",
       " (32, 32),\n",
       " (32, 32),\n",
       " (32, 32),\n",
       " (32, 32),\n",
       " (32, 32),\n",
       " (32, 32),\n",
       " (32, 32),\n",
       " (32, 32),\n",
       " (32, 32),\n",
       " (32, 32),\n",
       " (32, 32),\n",
       " (32, 32),\n",
       " (32, 32),\n",
       " (31, 32),\n",
       " (32, 32),\n",
       " (32, 32),\n",
       " (32, 32),\n",
       " (32, 32),\n",
       " (32, 32),\n",
       " (32, 32),\n",
       " (32, 32),\n",
       " (32, 32),\n",
       " (32, 32),\n",
       " (32, 32),\n",
       " (32, 32),\n",
       " (32, 32),\n",
       " (32, 32),\n",
       " (32, 32),\n",
       " (17, 17),\n",
       " (17, 17),\n",
       " (17, 17),\n",
       " (17, 17),\n",
       " (17, 17),\n",
       " (17, 17),\n",
       " (17, 17),\n",
       " (17, 17),\n",
       " (17, 17),\n",
       " (17, 17),\n",
       " (17, 17),\n",
       " (17, 17),\n",
       " (17, 17),\n",
       " (17, 17),\n",
       " (17, 17),\n",
       " (17, 17),\n",
       " (17, 17),\n",
       " (17, 17),\n",
       " (64, 17),\n",
       " (17, 17),\n",
       " (17, 17),\n",
       " (17, 17),\n",
       " (17, 17),\n",
       " (17, 17),\n",
       " (17, 17),\n",
       " (17, 17),\n",
       " (17, 17),\n",
       " (17, 17),\n",
       " (17, 17),\n",
       " (17, 17),\n",
       " (17, 17),\n",
       " (17, 17),\n",
       " (17, 17),\n",
       " (17, 17),\n",
       " (17, 17),\n",
       " (17, 17),\n",
       " (17, 17),\n",
       " (17, 17),\n",
       " (17, 17),\n",
       " (17, 17),\n",
       " (34, 34),\n",
       " (34, 34),\n",
       " (34, 34),\n",
       " (34, 34),\n",
       " (34, 34),\n",
       " (34, 34),\n",
       " (34, 34),\n",
       " (34, 34),\n",
       " (34, 34),\n",
       " (34, 34),\n",
       " (34, 34),\n",
       " (34, 34),\n",
       " (34, 34),\n",
       " (34, 34),\n",
       " (34, 34),\n",
       " (34, 34),\n",
       " (34, 34),\n",
       " (34, 34),\n",
       " (34, 34),\n",
       " (34, 34),\n",
       " (34, 34),\n",
       " (34, 34),\n",
       " (34, 34),\n",
       " (34, 34),\n",
       " (34, 34),\n",
       " (34, 34),\n",
       " (34, 34),\n",
       " (34, 34),\n",
       " (34, 34),\n",
       " (34, 34),\n",
       " (34, 34),\n",
       " (34, 34),\n",
       " (34, 34),\n",
       " (34, 34),\n",
       " (34, 34),\n",
       " (34, 34),\n",
       " (34, 34),\n",
       " (34, 34),\n",
       " (34, 34),\n",
       " (34, 34),\n",
       " (46, 46),\n",
       " (46, 46),\n",
       " (46, 46),\n",
       " (46, 46),\n",
       " (46, 46),\n",
       " (46, 46),\n",
       " (46, 46),\n",
       " (46, 46),\n",
       " (46, 46),\n",
       " (46, 46),\n",
       " (46, 46),\n",
       " (46, 46),\n",
       " (46, 46),\n",
       " (46, 46),\n",
       " (46, 46),\n",
       " (46, 46),\n",
       " (46, 46),\n",
       " (46, 46),\n",
       " (46, 46),\n",
       " (46, 46),\n",
       " (46, 46),\n",
       " (46, 46),\n",
       " (46, 46),\n",
       " (46, 46),\n",
       " (46, 46),\n",
       " (46, 46),\n",
       " (46, 46),\n",
       " (46, 46),\n",
       " (46, 46),\n",
       " (46, 46),\n",
       " (46, 46),\n",
       " (46, 46),\n",
       " (46, 46),\n",
       " (46, 46),\n",
       " (46, 46),\n",
       " (46, 46),\n",
       " (46, 46),\n",
       " (46, 46),\n",
       " (46, 46),\n",
       " (46, 46),\n",
       " (36, 36),\n",
       " (36, 36),\n",
       " (36, 36),\n",
       " (36, 36),\n",
       " (36, 36),\n",
       " (36, 36),\n",
       " (55, 36),\n",
       " (36, 36),\n",
       " (36, 36),\n",
       " (36, 36),\n",
       " (36, 36),\n",
       " (36, 36),\n",
       " (36, 36),\n",
       " (36, 36),\n",
       " (36, 36),\n",
       " (36, 36),\n",
       " (36, 36),\n",
       " (36, 36),\n",
       " (36, 36),\n",
       " (36, 36),\n",
       " (36, 36),\n",
       " (36, 36),\n",
       " (36, 36),\n",
       " (36, 36),\n",
       " (36, 36),\n",
       " (36, 36),\n",
       " (46, 36),\n",
       " (36, 36),\n",
       " (36, 36),\n",
       " (36, 36),\n",
       " (36, 36),\n",
       " (36, 36),\n",
       " (36, 36),\n",
       " (36, 36),\n",
       " (36, 36),\n",
       " (36, 36),\n",
       " (36, 36),\n",
       " (36, 36),\n",
       " (36, 36),\n",
       " (36, 36),\n",
       " (12, 12),\n",
       " (12, 12),\n",
       " (12, 12),\n",
       " (12, 12),\n",
       " (12, 12),\n",
       " (12, 12),\n",
       " (12, 12),\n",
       " (12, 12),\n",
       " (12, 12),\n",
       " (12, 12),\n",
       " (12, 12),\n",
       " (12, 12),\n",
       " (12, 12),\n",
       " (12, 12),\n",
       " (12, 12),\n",
       " (12, 12),\n",
       " (12, 12),\n",
       " (12, 12),\n",
       " (12, 12),\n",
       " (12, 12),\n",
       " (12, 12),\n",
       " (12, 12),\n",
       " (12, 12),\n",
       " (12, 12),\n",
       " (12, 12),\n",
       " (12, 12),\n",
       " (12, 12),\n",
       " (12, 12),\n",
       " (12, 12),\n",
       " (12, 12),\n",
       " (12, 12),\n",
       " (12, 12),\n",
       " (12, 12),\n",
       " (12, 12),\n",
       " (12, 12),\n",
       " (12, 12),\n",
       " (12, 12),\n",
       " (12, 12),\n",
       " (12, 12),\n",
       " (12, 12),\n",
       " (4, 4),\n",
       " (4, 4),\n",
       " (4, 4),\n",
       " (4, 4),\n",
       " (4, 4),\n",
       " (4, 4),\n",
       " (4, 4),\n",
       " (4, 4),\n",
       " (4, 4),\n",
       " (4, 4),\n",
       " (4, 4),\n",
       " (4, 4),\n",
       " (4, 4),\n",
       " (4, 4),\n",
       " (4, 4),\n",
       " (4, 4),\n",
       " (4, 4),\n",
       " (4, 4),\n",
       " (4, 4),\n",
       " (4, 4),\n",
       " (4, 4),\n",
       " (4, 4),\n",
       " (4, 4),\n",
       " (4, 4),\n",
       " (4, 4),\n",
       " (1, 4),\n",
       " (4, 4),\n",
       " (4, 4),\n",
       " (4, 4),\n",
       " (4, 4),\n",
       " (4, 4),\n",
       " (4, 4),\n",
       " (4, 4),\n",
       " (4, 4),\n",
       " (4, 4),\n",
       " (4, 4),\n",
       " (4, 4),\n",
       " (4, 4),\n",
       " (4, 4),\n",
       " (4, 4),\n",
       " (14, 14),\n",
       " (14, 14),\n",
       " (14, 14),\n",
       " (14, 14),\n",
       " (14, 14),\n",
       " (14, 14),\n",
       " (14, 14),\n",
       " (14, 14),\n",
       " (14, 14),\n",
       " (14, 14),\n",
       " (14, 14),\n",
       " (14, 14),\n",
       " (14, 14),\n",
       " (14, 14),\n",
       " (14, 14),\n",
       " (14, 14),\n",
       " (14, 14),\n",
       " (14, 14),\n",
       " (14, 14),\n",
       " (14, 14),\n",
       " (14, 14),\n",
       " (14, 14),\n",
       " (14, 14),\n",
       " (14, 14),\n",
       " (14, 14),\n",
       " (14, 14),\n",
       " (14, 14),\n",
       " (14, 14),\n",
       " (14, 14),\n",
       " (14, 14),\n",
       " (14, 14),\n",
       " (14, 14),\n",
       " (14, 14),\n",
       " (14, 14),\n",
       " (14, 14),\n",
       " (14, 14),\n",
       " (14, 14),\n",
       " (14, 14),\n",
       " (14, 14),\n",
       " (14, 14),\n",
       " (33, 33),\n",
       " (33, 33),\n",
       " (33, 33),\n",
       " (33, 33),\n",
       " (33, 33),\n",
       " (33, 33),\n",
       " (33, 33),\n",
       " (33, 33),\n",
       " (33, 33),\n",
       " (33, 33),\n",
       " (33, 33),\n",
       " (33, 33),\n",
       " (33, 33),\n",
       " (33, 33),\n",
       " (33, 33),\n",
       " (33, 33),\n",
       " (33, 33),\n",
       " (33, 33),\n",
       " (33, 33),\n",
       " (33, 33),\n",
       " (33, 33),\n",
       " (33, 33),\n",
       " (33, 33),\n",
       " (33, 33),\n",
       " (33, 33),\n",
       " (33, 33),\n",
       " (33, 33),\n",
       " (33, 33),\n",
       " (33, 33),\n",
       " (33, 33),\n",
       " (33, 33),\n",
       " (33, 33),\n",
       " (33, 33),\n",
       " (33, 33),\n",
       " (33, 33),\n",
       " (33, 33),\n",
       " (33, 33),\n",
       " (33, 33),\n",
       " (33, 33),\n",
       " (33, 33),\n",
       " (41, 41),\n",
       " (41, 41),\n",
       " (41, 41),\n",
       " (41, 41),\n",
       " (41, 41),\n",
       " (41, 41),\n",
       " (41, 41),\n",
       " (41, 41),\n",
       " (41, 41),\n",
       " (41, 41),\n",
       " (41, 41),\n",
       " (41, 41),\n",
       " (41, 41),\n",
       " (24, 41),\n",
       " (41, 41),\n",
       " (41, 41),\n",
       " (41, 41),\n",
       " (41, 41),\n",
       " (41, 41),\n",
       " (41, 41),\n",
       " (41, 41),\n",
       " (41, 41),\n",
       " (41, 41),\n",
       " (41, 41),\n",
       " (41, 41),\n",
       " (41, 41),\n",
       " (41, 41),\n",
       " (41, 41),\n",
       " (41, 41),\n",
       " (41, 41),\n",
       " (41, 41),\n",
       " (41, 41),\n",
       " (41, 41),\n",
       " (41, 41),\n",
       " (41, 41),\n",
       " (41, 41),\n",
       " (41, 41),\n",
       " (41, 41),\n",
       " (41, 41),\n",
       " (41, 41),\n",
       " (1, 1),\n",
       " (1, 1),\n",
       " (1, 1),\n",
       " (1, 1),\n",
       " (1, 1),\n",
       " (1, 1),\n",
       " (1, 1),\n",
       " (1, 1),\n",
       " (1, 1),\n",
       " (1, 1),\n",
       " (1, 1),\n",
       " (1, 1),\n",
       " (1, 1),\n",
       " (1, 1),\n",
       " (1, 1),\n",
       " (1, 1),\n",
       " (1, 1),\n",
       " (1, 1),\n",
       " (1, 1),\n",
       " (1, 1),\n",
       " (1, 1),\n",
       " (1, 1),\n",
       " (1, 1),\n",
       " (1, 1),\n",
       " (1, 1),\n",
       " (1, 1),\n",
       " (1, 1),\n",
       " (1, 1),\n",
       " (1, 1),\n",
       " (1, 1),\n",
       " (1, 1),\n",
       " (1, 1),\n",
       " (1, 1),\n",
       " (1, 1),\n",
       " (1, 1),\n",
       " (1, 1),\n",
       " (1, 1),\n",
       " (1, 1),\n",
       " (1, 1),\n",
       " (1, 1),\n",
       " (49, 49),\n",
       " (49, 49),\n",
       " (49, 49),\n",
       " (49, 49),\n",
       " (49, 49),\n",
       " (49, 49),\n",
       " (49, 49),\n",
       " (49, 49),\n",
       " (49, 49),\n",
       " (49, 49),\n",
       " (49, 49),\n",
       " (49, 49),\n",
       " (49, 49),\n",
       " (49, 49),\n",
       " (49, 49),\n",
       " (49, 49),\n",
       " (49, 49),\n",
       " (49, 49),\n",
       " (49, 49),\n",
       " (49, 49),\n",
       " (49, 49),\n",
       " (49, 49),\n",
       " (55, 49),\n",
       " (49, 49),\n",
       " (49, 49),\n",
       " (49, 49),\n",
       " (49, 49),\n",
       " (14, 49),\n",
       " (49, 49),\n",
       " (49, 49),\n",
       " (49, 49),\n",
       " (49, 49),\n",
       " (49, 49),\n",
       " (49, 49),\n",
       " (49, 49),\n",
       " (22, 49),\n",
       " (49, 49),\n",
       " (49, 49),\n",
       " (49, 49),\n",
       " (49, 49),\n",
       " (23, 23),\n",
       " (23, 23),\n",
       " (23, 23),\n",
       " (23, 23),\n",
       " (23, 23),\n",
       " (23, 23),\n",
       " (23, 23),\n",
       " (23, 23),\n",
       " (23, 23),\n",
       " (23, 23),\n",
       " (23, 23),\n",
       " (23, 23),\n",
       " (23, 23),\n",
       " (23, 23),\n",
       " (23, 23),\n",
       " (23, 23),\n",
       " (23, 23),\n",
       " (23, 23),\n",
       " (23, 23),\n",
       " (23, 23),\n",
       " (23, 23),\n",
       " (23, 23),\n",
       " (23, 23),\n",
       " (23, 23),\n",
       " (23, 23),\n",
       " (23, 23),\n",
       " (23, 23),\n",
       " (23, 23),\n",
       " (23, 23),\n",
       " (23, 23),\n",
       " (23, 23),\n",
       " (23, 23),\n",
       " (23, 23),\n",
       " (23, 23),\n",
       " (23, 23),\n",
       " (23, 23),\n",
       " (23, 23),\n",
       " (23, 23),\n",
       " (23, 23),\n",
       " (23, 23),\n",
       " (56, 56),\n",
       " (56, 56),\n",
       " (56, 56),\n",
       " (56, 56),\n",
       " (56, 56),\n",
       " (56, 56),\n",
       " (59, 56),\n",
       " (56, 56),\n",
       " (56, 56),\n",
       " (56, 56),\n",
       " (56, 56),\n",
       " (56, 56),\n",
       " (56, 56),\n",
       " (56, 56),\n",
       " (56, 56),\n",
       " (56, 56),\n",
       " (56, 56),\n",
       " (56, 56),\n",
       " (56, 56),\n",
       " (56, 56),\n",
       " (56, 56),\n",
       " (56, 56),\n",
       " (56, 56),\n",
       " (56, 56),\n",
       " (56, 56),\n",
       " (56, 56),\n",
       " (56, 56),\n",
       " (56, 56),\n",
       " (56, 56),\n",
       " (56, 56),\n",
       " (56, 56),\n",
       " (56, 56),\n",
       " (56, 56),\n",
       " (56, 56),\n",
       " (56, 56),\n",
       " (56, 56),\n",
       " (56, 56),\n",
       " (56, 56),\n",
       " (56, 56),\n",
       " (56, 56),\n",
       " (47, 47),\n",
       " (47, 47),\n",
       " (47, 47),\n",
       " (47, 47),\n",
       " (47, 47),\n",
       " (47, 47),\n",
       " (47, 47),\n",
       " (47, 47),\n",
       " (47, 47),\n",
       " (47, 47),\n",
       " (47, 47),\n",
       " (47, 47),\n",
       " (47, 47),\n",
       " (47, 47),\n",
       " (47, 47),\n",
       " (47, 47),\n",
       " (47, 47),\n",
       " (47, 47),\n",
       " (47, 47),\n",
       " (47, 47),\n",
       " (47, 47),\n",
       " (47, 47),\n",
       " (47, 47),\n",
       " (47, 47),\n",
       " (47, 47),\n",
       " (47, 47),\n",
       " (47, 47),\n",
       " (47, 47),\n",
       " (47, 47),\n",
       " (47, 47),\n",
       " (47, 47),\n",
       " (47, 47),\n",
       " (47, 47),\n",
       " (47, 47),\n",
       " (47, 47),\n",
       " (47, 47),\n",
       " (47, 47),\n",
       " (47, 47),\n",
       " (47, 47),\n",
       " (47, 47),\n",
       " (8, 8),\n",
       " (8, 8),\n",
       " (8, 8),\n",
       " (8, 8),\n",
       " (8, 8),\n",
       " (8, 8),\n",
       " (8, 8),\n",
       " (8, 8),\n",
       " (8, 8),\n",
       " (8, 8),\n",
       " (8, 8),\n",
       " (8, 8),\n",
       " (8, 8),\n",
       " (8, 8),\n",
       " (8, 8),\n",
       " (8, 8),\n",
       " (8, 8),\n",
       " (8, 8),\n",
       " (8, 8),\n",
       " (8, 8),\n",
       " (8, 8),\n",
       " (8, 8),\n",
       " (8, 8),\n",
       " (8, 8),\n",
       " (8, 8),\n",
       " (8, 8),\n",
       " (8, 8),\n",
       " (8, 8),\n",
       " (8, 8),\n",
       " (8, 8),\n",
       " (8, 8),\n",
       " (8, 8),\n",
       " (8, 8),\n",
       " (8, 8),\n",
       " (8, 8),\n",
       " (8, 8),\n",
       " (8, 8),\n",
       " (8, 8),\n",
       " (53, 8),\n",
       " (8, 8),\n",
       " (60, 60),\n",
       " (60, 60),\n",
       " (60, 60),\n",
       " (60, 60),\n",
       " (60, 60),\n",
       " (60, 60),\n",
       " (60, 60),\n",
       " (60, 60),\n",
       " (60, 60),\n",
       " (60, 60),\n",
       " (60, 60),\n",
       " (60, 60),\n",
       " (60, 60),\n",
       " (60, 60),\n",
       " (60, 60),\n",
       " (60, 60),\n",
       " (60, 60),\n",
       " (60, 60),\n",
       " (60, 60),\n",
       " (60, 60),\n",
       " (60, 60),\n",
       " (60, 60),\n",
       " (60, 60),\n",
       " (60, 60),\n",
       " (60, 60),\n",
       " (60, 60),\n",
       " (60, 60),\n",
       " (60, 60),\n",
       " (60, 60),\n",
       " (60, 60),\n",
       " (60, 60),\n",
       " (60, 60),\n",
       " (60, 60),\n",
       " (60, 60),\n",
       " (60, 60),\n",
       " (60, 60),\n",
       " (60, 60),\n",
       " (60, 60),\n",
       " (60, 60),\n",
       " (60, 60),\n",
       " (75, 75),\n",
       " (75, 75),\n",
       " (75, 75),\n",
       " (75, 75),\n",
       " (75, 75),\n",
       " (75, 75),\n",
       " (75, 75),\n",
       " (75, 75),\n",
       " (75, 75),\n",
       " (75, 75),\n",
       " (75, 75),\n",
       " (75, 75),\n",
       " (27, 75),\n",
       " (75, 75),\n",
       " (75, 75),\n",
       " (75, 75),\n",
       " (75, 75),\n",
       " (75, 75),\n",
       " (75, 75),\n",
       " (75, 75),\n",
       " (75, 75),\n",
       " (75, 75),\n",
       " (75, 75),\n",
       " (75, 75),\n",
       " (75, 75),\n",
       " (75, 75),\n",
       " (75, 75),\n",
       " (75, 75),\n",
       " (75, 75),\n",
       " (75, 75),\n",
       " (75, 75),\n",
       " (75, 75),\n",
       " (75, 75),\n",
       " (75, 75),\n",
       " (75, 75),\n",
       " (75, 75),\n",
       " (75, 75),\n",
       " (75, 75),\n",
       " (76, 75),\n",
       " (75, 75),\n",
       " (15, 15),\n",
       " (15, 15),\n",
       " (15, 15),\n",
       " (15, 15),\n",
       " (15, 15),\n",
       " (15, 15),\n",
       " (15, 15),\n",
       " (15, 15),\n",
       " (15, 15),\n",
       " (15, 15),\n",
       " (15, 15),\n",
       " (15, 15),\n",
       " (15, 15),\n",
       " (15, 15),\n",
       " (15, 15),\n",
       " (15, 15),\n",
       " (15, 15),\n",
       " (15, 15),\n",
       " (15, 15),\n",
       " (15, 15),\n",
       " (15, 15),\n",
       " (15, 15),\n",
       " (15, 15),\n",
       " (15, 15),\n",
       " (15, 15),\n",
       " (15, 15),\n",
       " (15, 15),\n",
       " (15, 15),\n",
       " (15, 15),\n",
       " (15, 15),\n",
       " (15, 15),\n",
       " (15, 15),\n",
       " (15, 15),\n",
       " (15, 15),\n",
       " (15, 15),\n",
       " (15, 15),\n",
       " (15, 15),\n",
       " (15, 15),\n",
       " (15, 15),\n",
       " (15, 15),\n",
       " (66, 66),\n",
       " (66, 66),\n",
       " (66, 66),\n",
       " (66, 66),\n",
       " (66, 66),\n",
       " (66, 66),\n",
       " (66, 66),\n",
       " (66, 66),\n",
       " (66, 66),\n",
       " (67, 66),\n",
       " (66, 66),\n",
       " (66, 66),\n",
       " (23, 66),\n",
       " (66, 66),\n",
       " (66, 66),\n",
       " (66, 66),\n",
       " (66, 66),\n",
       " (66, 66),\n",
       " (66, 66),\n",
       " (66, 66),\n",
       " (66, 66),\n",
       " (66, 66),\n",
       " (66, 66),\n",
       " (66, 66),\n",
       " (66, 66),\n",
       " (66, 66),\n",
       " (66, 66),\n",
       " (66, 66),\n",
       " (66, 66),\n",
       " (27, 66),\n",
       " (66, 66),\n",
       " (66, 66),\n",
       " (66, 66),\n",
       " (66, 66),\n",
       " (66, 66),\n",
       " (66, 66),\n",
       " (66, 66),\n",
       " (66, 66),\n",
       " (66, 66),\n",
       " (66, 66),\n",
       " (54, 54),\n",
       " (54, 54),\n",
       " (54, 54),\n",
       " (54, 54),\n",
       " (54, 54),\n",
       " (54, 54),\n",
       " (54, 54),\n",
       " (54, 54),\n",
       " (54, 54),\n",
       " (54, 54),\n",
       " (54, 54),\n",
       " (54, 54),\n",
       " (54, 54),\n",
       " (54, 54),\n",
       " (54, 54),\n",
       " (54, 54),\n",
       " (54, 54),\n",
       " (54, 54),\n",
       " (54, 54),\n",
       " (54, 54),\n",
       " (54, 54),\n",
       " (54, 54),\n",
       " (54, 54),\n",
       " (54, 54),\n",
       " (54, 54),\n",
       " (54, 54),\n",
       " (54, 54),\n",
       " (54, 54),\n",
       " (54, 54),\n",
       " (54, 54),\n",
       " (54, 54),\n",
       " (54, 54),\n",
       " (54, 54),\n",
       " (54, 54),\n",
       " (54, 54),\n",
       " (54, 54),\n",
       " (54, 54),\n",
       " (54, 54),\n",
       " (54, 54),\n",
       " (54, 54),\n",
       " (40, 40),\n",
       " (40, 40),\n",
       " (40, 40),\n",
       " (40, 40),\n",
       " (40, 40),\n",
       " (40, 40),\n",
       " (40, 40),\n",
       " (40, 40),\n",
       " (40, 40),\n",
       " (40, 40),\n",
       " (40, 40),\n",
       " (40, 40),\n",
       " (40, 40),\n",
       " (40, 40),\n",
       " (40, 40),\n",
       " (40, 40),\n",
       " (40, 40),\n",
       " (40, 40),\n",
       " (40, 40),\n",
       " (40, 40),\n",
       " (40, 40),\n",
       " (40, 40),\n",
       " (40, 40),\n",
       " (40, 40),\n",
       " (40, 40),\n",
       " (40, 40),\n",
       " (40, 40),\n",
       " (40, 40),\n",
       " (40, 40),\n",
       " (40, 40),\n",
       " (40, 40),\n",
       " (40, 40),\n",
       " (40, 40),\n",
       " (72, 40),\n",
       " (40, 40),\n",
       " (40, 40),\n",
       " (40, 40),\n",
       " (40, 40),\n",
       " (40, 40),\n",
       " (40, 40),\n",
       " (10, 10),\n",
       " (10, 10),\n",
       " (10, 10),\n",
       " (10, 10),\n",
       " (10, 10),\n",
       " (10, 10),\n",
       " (10, 10),\n",
       " (10, 10),\n",
       " (10, 10),\n",
       " (10, 10),\n",
       " (10, 10),\n",
       " (10, 10),\n",
       " (10, 10),\n",
       " (10, 10),\n",
       " (10, 10),\n",
       " (10, 10),\n",
       " (10, 10),\n",
       " (10, 10),\n",
       " (10, 10),\n",
       " (10, 10),\n",
       " (10, 10),\n",
       " (10, 10),\n",
       " (10, 10),\n",
       " (10, 10),\n",
       " (10, 10),\n",
       " (10, 10),\n",
       " (10, 10),\n",
       " (10, 10),\n",
       " (10, 10),\n",
       " (10, 10),\n",
       " (10, 10),\n",
       " (10, 10),\n",
       " (10, 10),\n",
       " (10, 10),\n",
       " (10, 10),\n",
       " (10, 10),\n",
       " (10, 10),\n",
       " (10, 10),\n",
       " (10, 10),\n",
       " (10, 10),\n",
       " ...]"
      ]
     },
     "execution_count": 27,
     "metadata": {},
     "output_type": "execute_result"
    }
   ],
   "source": [
    "[(predictions[i], labels[i]) for i in range(len(predictions))]"
   ]
  },
  {
   "cell_type": "code",
   "execution_count": 28,
   "id": "808cd5c3",
   "metadata": {
    "hidden": true
   },
   "outputs": [
    {
     "data": {
      "text/plain": [
       "(0.9818181818181818, 0.9820835100024049)"
      ]
     },
     "execution_count": 28,
     "metadata": {},
     "output_type": "execute_result"
    }
   ],
   "source": [
    "from sklearn.metrics import accuracy_score, f1_score\n",
    "\n",
    "acc = accuracy_score(predictions, labels)\n",
    "f1 = f1_score(predictions, labels, average=\"weighted\")\n",
    "acc, f1"
   ]
  },
  {
   "cell_type": "code",
   "execution_count": 29,
   "id": "28f7992f",
   "metadata": {
    "hidden": true
   },
   "outputs": [
    {
     "data": {
      "text/plain": [
       "'results/banking77-with-BERT-Banking77'"
      ]
     },
     "execution_count": 29,
     "metadata": {},
     "output_type": "execute_result"
    }
   ],
   "source": [
    "output_dir"
   ]
  },
  {
   "cell_type": "code",
   "execution_count": 30,
   "id": "76731825",
   "metadata": {
    "hidden": true
   },
   "outputs": [],
   "source": [
    "import json\n",
    "\n",
    "with open(f\"{output_dir}/performance.json\", \"w\") as f:\n",
    "    json.dump(dict(\n",
    "        accuracy=acc,\n",
    "        f1=f1,\n",
    "        n_way=n,\n",
    "        k_shot=k,\n",
    "    ), f)"
   ]
  },
  {
   "cell_type": "markdown",
   "id": "3bcb06ac",
   "metadata": {},
   "source": [
    "## Text spatialization with dimension reduction"
   ]
  },
  {
   "cell_type": "markdown",
   "id": "48d174f0",
   "metadata": {
    "heading_collapsed": true
   },
   "source": [
    "### UMAP"
   ]
  },
  {
   "cell_type": "code",
   "execution_count": 31,
   "id": "0ae5b1b0",
   "metadata": {
    "hidden": true
   },
   "outputs": [],
   "source": [
    "from numba import jit"
   ]
  },
  {
   "cell_type": "code",
   "execution_count": 32,
   "id": "01e2ed9c",
   "metadata": {
    "hidden": true
   },
   "outputs": [],
   "source": [
    "@jit\n",
    "def inner_product_distance(a,b, tau=15):\n",
    "    return np.exp(-np.sum(a * b) / tau)**2"
   ]
  },
  {
   "cell_type": "code",
   "execution_count": 33,
   "id": "e4c7e379",
   "metadata": {
    "hidden": true
   },
   "outputs": [
    {
     "data": {
      "text/plain": [
       "(3080, 768)"
      ]
     },
     "execution_count": 33,
     "metadata": {},
     "output_type": "execute_result"
    }
   ],
   "source": [
    "encodings.shape"
   ]
  },
  {
   "cell_type": "code",
   "execution_count": 34,
   "id": "f08c5ffd",
   "metadata": {
    "hidden": true
   },
   "outputs": [
    {
     "name": "stderr",
     "output_type": "stream",
     "text": [
      "/home/mojo/anaconda3/envs/dialoglue/lib/python3.6/site-packages/umap/umap_.py:1728: UserWarning: custom distance metric does not return gradient; inverse_transform will be unavailable. To enable using inverse_transform method method, define a distance function that returns a tuple of (distance [float], gradient [np.array])\n",
      "  \"custom distance metric does not return gradient; inverse_transform will be unavailable. \"\n",
      "/home/mojo/anaconda3/envs/dialoglue/lib/python3.6/site-packages/numba/np/ufunc/parallel.py:363: NumbaWarning: The TBB threading layer requires TBB version 2019.5 or later i.e., TBB_INTERFACE_VERSION >= 11005. Found TBB_INTERFACE_VERSION = 9107. The TBB threading layer is disabled.\n",
      "  warnings.warn(problem)\n"
     ]
    }
   ],
   "source": [
    "from umap import UMAP\n",
    "\n",
    "umap_2d = UMAP(n_components=2, metric=inner_product_distance)\n",
    "umap_results_cls = umap_2d.fit_transform(encodings)"
   ]
  },
  {
   "cell_type": "code",
   "execution_count": 35,
   "id": "924dee39",
   "metadata": {
    "hidden": true
   },
   "outputs": [
    {
     "data": {
      "text/plain": [
       "77"
      ]
     },
     "execution_count": 35,
     "metadata": {},
     "output_type": "execute_result"
    }
   ],
   "source": [
    "num_labels = len(le.classes_)\n",
    "num_labels"
   ]
  },
  {
   "cell_type": "code",
   "execution_count": 36,
   "id": "57b6e5a7",
   "metadata": {
    "hidden": true
   },
   "outputs": [],
   "source": [
    "prediction_idxs = [res[\"prediction_label_idx\"] for res in results]"
   ]
  },
  {
   "cell_type": "code",
   "execution_count": 37,
   "id": "19178057",
   "metadata": {
    "hidden": true
   },
   "outputs": [],
   "source": [
    "import matplotlib.pyplot as plt\n",
    "import seaborn as sns\n",
    "import pandas as pd\n",
    "\n",
    "\n",
    "df = pd.DataFrame()\n",
    "df['cls-umap-2d-one'] = umap_results_cls[:,0]\n",
    "df['cls-umap-2d-two'] = umap_results_cls[:,1]\n",
    "df['y'] = prediction_idxs\n",
    "\n",
    "plt.figure(figsize=(20,10))\n",
    "scatter_plot = sns.scatterplot(\n",
    "    x=\"cls-umap-2d-one\", y=\"cls-umap-2d-two\",\n",
    "    hue=\"y\",\n",
    "    palette=sns.color_palette(\"hls\", num_labels),\n",
    "    data=df,\n",
    "    legend=False,\n",
    "    alpha=0.3,\n",
    ")\n"
   ]
  },
  {
   "cell_type": "code",
   "execution_count": 38,
   "id": "be136122",
   "metadata": {
    "hidden": true
   },
   "outputs": [],
   "source": [
    "fig = scatter_plot.get_figure()\n",
    "fig.savefig(f\"{output_dir}/embedding_space-umap.png\")"
   ]
  },
  {
   "cell_type": "code",
   "execution_count": 39,
   "id": "062276ac",
   "metadata": {
    "hidden": true
   },
   "outputs": [],
   "source": [
    "umap_data_dicts = [{\"umap-dim0\": d[0].item(), \"umap-dim1\": d[1].item()} for d in umap_results_cls]"
   ]
  },
  {
   "cell_type": "code",
   "execution_count": 40,
   "id": "e204e6eb",
   "metadata": {
    "hidden": true
   },
   "outputs": [],
   "source": [
    "for i in range(len(results)):\n",
    "    umap_entries = umap_data_dicts[i]\n",
    "    results[i].update(umap_entries)"
   ]
  },
  {
   "cell_type": "markdown",
   "id": "b47f1b72",
   "metadata": {
    "heading_collapsed": true
   },
   "source": [
    "### t-SNE"
   ]
  },
  {
   "cell_type": "code",
   "execution_count": 41,
   "id": "5a859fe4",
   "metadata": {
    "hidden": true
   },
   "outputs": [],
   "source": [
    "def inner_product_distance_np(a,b, tau=15):\n",
    "    return np.exp(-np.inner(a,b) / tau)"
   ]
  },
  {
   "cell_type": "code",
   "execution_count": 42,
   "id": "0dadb800",
   "metadata": {
    "hidden": true
   },
   "outputs": [
    {
     "name": "stderr",
     "output_type": "stream",
     "text": [
      "/home/mojo/.local/lib/python3.6/site-packages/sklearn/manifold/_t_sne.py:699: FutureWarning: 'square_distances' has been introduced in 0.24 to help phase out legacy squaring behavior. The 'legacy' setting will be removed in 1.1 (renaming of 0.26), and the default setting will be changed to True. In 1.3, 'square_distances' will be removed altogether, and distances will be squared by default. Set 'square_distances'=True to silence this warning.\n",
      "  FutureWarning\n"
     ]
    },
    {
     "name": "stdout",
     "output_type": "stream",
     "text": [
      "[t-SNE] Computing 121 nearest neighbors...\n",
      "[t-SNE] Indexed 3080 samples in 0.001s...\n",
      "[t-SNE] Computed neighbors for 3080 samples in 17.550s...\n",
      "[t-SNE] Computed conditional probabilities for sample 1000 / 3080\n",
      "[t-SNE] Computed conditional probabilities for sample 2000 / 3080\n",
      "[t-SNE] Computed conditional probabilities for sample 3000 / 3080\n",
      "[t-SNE] Computed conditional probabilities for sample 3080 / 3080\n",
      "[t-SNE] Mean sigma: 0.000253\n",
      "[t-SNE] KL divergence after 250 iterations with early exaggeration: 47.209435\n",
      "[t-SNE] KL divergence after 1000 iterations: 0.207744\n",
      "t-SNE done! Time elapsed: 22.01372218132019 seconds\n"
     ]
    }
   ],
   "source": [
    "import time\n",
    "from sklearn.manifold import TSNE\n",
    "\n",
    "\n",
    "time_start = time.time()\n",
    "tsne = TSNE(n_components=2, verbose=1, perplexity=40, n_iter=1000, metric=inner_product_distance_np)\n",
    "tsne_results = tsne.fit_transform(encodings)\n",
    "\n",
    "print('t-SNE done! Time elapsed: {} seconds'.format(time.time()-time_start))"
   ]
  },
  {
   "cell_type": "code",
   "execution_count": 43,
   "id": "040a1d0d",
   "metadata": {
    "hidden": true
   },
   "outputs": [
    {
     "data": {
      "image/png": "[encoded data removed]",
      "text/plain": [
       "<Figure size 1440x720 with 1 Axes>"
      ]
     },
     "metadata": {
      "needs_background": "light"
     },
     "output_type": "display_data"
    }
   ],
   "source": [
    "df['cls-tsne-2d-one'] = tsne_results[:,0]\n",
    "df['cls-tsne-2d-two'] = tsne_results[:,1]\n",
    "df['y'] = prediction_idxs\n",
    "\n",
    "plt.figure(figsize=(20,10))\n",
    "sns.scatterplot(\n",
    "    x=\"cls-tsne-2d-one\", y=\"cls-tsne-2d-two\",\n",
    "    hue=\"y\",\n",
    "    palette=sns.color_palette(\"hls\", num_labels),\n",
    "    data=df,\n",
    "    legend=False,\n",
    "    alpha=0.3,\n",
    ")\n",
    "\n",
    "plt.savefig(f\"{output_dir}/embedding_space-tsne.png\")"
   ]
  },
  {
   "cell_type": "code",
   "execution_count": 44,
   "id": "72794e19",
   "metadata": {
    "hidden": true
   },
   "outputs": [],
   "source": [
    "tsne_data_dicts = [{\"tsne-dim0\": d[0].item(), \"tsne-dim1\": d[1].item()} for d in tsne_results]"
   ]
  },
  {
   "cell_type": "code",
   "execution_count": 45,
   "id": "61b3ab00",
   "metadata": {
    "hidden": true
   },
   "outputs": [],
   "source": [
    "for i in range(len(results)):\n",
    "    tsne_entries = tsne_data_dicts[i]\n",
    "    results[i].update(tsne_entries)"
   ]
  },
  {
   "cell_type": "markdown",
   "id": "90a62b52",
   "metadata": {},
   "source": [
    "### Assign higher-level clusters for color encoding"
   ]
  },
  {
   "cell_type": "code",
   "execution_count": 46,
   "id": "bde97b67",
   "metadata": {},
   "outputs": [],
   "source": [
    "def inner_product_distance_torch(a,b, tau=15):\n",
    "    return torch.exp(-torch.inner(a,b) / tau)"
   ]
  },
  {
   "cell_type": "code",
   "execution_count": 47,
   "id": "b1d28b3e",
   "metadata": {},
   "outputs": [],
   "source": [
    "import random\n",
    "\n",
    "class KMeans:\n",
    "    def __init__(self, num_clusters, distance_metric, max_iter=1000, random_seed=0):\n",
    "        self.num_clusters = num_clusters\n",
    "        self.distance_metric = distance_metric\n",
    "        self.max_iter = max_iter\n",
    "        self.centroids = []\n",
    "        \n",
    "    def fit(self, X):\n",
    "        with torch.no_grad():\n",
    "            # initialise centroids\n",
    "            centroids_idxs = random.sample(range(X.shape[0]), self.num_clusters)\n",
    "            self.centroids = X[centroids_idxs]\n",
    "\n",
    "            converged = False\n",
    "\n",
    "            previous_clusters = None\n",
    "\n",
    "            iter_count = 0\n",
    "            while iter_count < self.max_iter and not converged:\n",
    "                clusters = []\n",
    "                # for each example, find which cluster mean they are closest to\n",
    "                for x in X:\n",
    "                    distances = self.distance_metric(x, self.centroids)\n",
    "                    cluster = torch.argmin(distances).item()\n",
    "                    clusters.append(cluster)\n",
    "\n",
    "                clusters = torch.tensor(clusters, device=\"cuda\")\n",
    "                if previous_clusters is not None and all(clusters == previous_clusters):\n",
    "                    converged = True\n",
    "\n",
    "                # update the cluster means\n",
    "                for i in range(self.num_clusters):\n",
    "                    self.centroids[i] = X[(clusters == i).nonzero().squeeze()].mean(dim=0)\n",
    "                previous_clusters = clusters\n",
    "\n",
    "                print(\"Iteration:\", iter_count)\n",
    "                iter_count += 1\n",
    "            return clusters"
   ]
  },
  {
   "cell_type": "code",
   "execution_count": 48,
   "id": "dad7cc35",
   "metadata": {},
   "outputs": [],
   "source": [
    "NUM_CLUSTERS = 12\n",
    "\n",
    "kmeans = KMeans(NUM_CLUSTERS, distance_metric=inner_product_distance_torch)"
   ]
  },
  {
   "cell_type": "code",
   "execution_count": 49,
   "id": "42634958",
   "metadata": {},
   "outputs": [],
   "source": [
    "import torch"
   ]
  },
  {
   "cell_type": "code",
   "execution_count": 50,
   "id": "124f0b02",
   "metadata": {},
   "outputs": [
    {
     "data": {
      "text/plain": [
       "tensor([[ 0.4599, -0.6121,  0.0485,  ..., -0.9381, -0.4580, -0.5850],\n",
       "        [ 0.1936,  0.1418,  1.3138,  ..., -0.5118,  0.0656, -0.7725],\n",
       "        [ 0.2229, -0.1873,  1.4307,  ..., -0.3323, -0.0557, -0.4687],\n",
       "        ...,\n",
       "        [ 0.3438, -0.4746,  0.1217,  ...,  0.2248, -0.1163, -0.2752],\n",
       "        [ 0.4043, -0.6214,  0.1972,  ...,  0.2564, -0.2064, -0.2723],\n",
       "        [ 0.3461, -0.5868,  0.1187,  ...,  0.3150, -0.1642, -0.1863]],\n",
       "       device='cuda:0', dtype=torch.float64)"
      ]
     },
     "execution_count": 50,
     "metadata": {},
     "output_type": "execute_result"
    }
   ],
   "source": [
    "encodings_torch = torch.tensor(encodings, device=\"cuda\")\n",
    "encodings_torch"
   ]
  },
  {
   "cell_type": "code",
   "execution_count": 51,
   "id": "6a80a4f9",
   "metadata": {},
   "outputs": [
    {
     "name": "stdout",
     "output_type": "stream",
     "text": [
      "Iteration: 0\n",
      "Iteration: 1\n",
      "Iteration: 2\n",
      "Iteration: 3\n",
      "Iteration: 4\n",
      "Iteration: 5\n",
      "Iteration: 6\n",
      "Iteration: 7\n",
      "Iteration: 8\n",
      "Iteration: 9\n",
      "Iteration: 10\n",
      "Iteration: 11\n",
      "Iteration: 12\n",
      "Iteration: 13\n",
      "Iteration: 14\n",
      "Iteration: 15\n"
     ]
    }
   ],
   "source": [
    "if len(le.classes_) < NUM_CLUSTERS:\n",
    "    assigned_clusters = prediction_idxs\n",
    "else:\n",
    "    assigned_clusters = kmeans.fit(encodings_torch).cpu().tolist()"
   ]
  },
  {
   "cell_type": "code",
   "execution_count": 52,
   "id": "7138bec3",
   "metadata": {},
   "outputs": [
    {
     "data": {
      "text/plain": [
       "False"
      ]
     },
     "execution_count": 52,
     "metadata": {},
     "output_type": "execute_result"
    }
   ],
   "source": [
    "all([assigned_clusters[i] == prediction_idxs[i] for i in range(len(assigned_clusters))])"
   ]
  },
  {
   "cell_type": "code",
   "execution_count": 53,
   "id": "0423de1e",
   "metadata": {},
   "outputs": [
    {
     "data": {
      "text/plain": [
       "12"
      ]
     },
     "execution_count": 53,
     "metadata": {},
     "output_type": "execute_result"
    }
   ],
   "source": [
    "len(set(assigned_clusters))"
   ]
  },
  {
   "cell_type": "markdown",
   "id": "a6985815",
   "metadata": {},
   "source": [
    "Find which cluster each label group belongs to based on majority vote of the group's members"
   ]
  },
  {
   "cell_type": "code",
   "execution_count": 54,
   "id": "f80f69fd",
   "metadata": {},
   "outputs": [
    {
     "data": {
      "application/vnd.jupyter.widget-view+json": {
       "model_id": "4ff6b2358b9b4448afa3867ea55cd40f",
       "version_major": 2,
       "version_minor": 0
      },
      "text/plain": [
       "  0%|          | 0/3080 [00:00<?, ?it/s]"
      ]
     },
     "metadata": {},
     "output_type": "display_data"
    }
   ],
   "source": [
    "# First, group examples by label\n",
    "from collections import defaultdict\n",
    "from tqdm.auto import tqdm\n",
    "\n",
    "\n",
    "label_groups = defaultdict(list)\n",
    "\n",
    "for i in tqdm(range(len(target_dataset))):\n",
    "    example = raw_datasets[\"test\"][i]\n",
    "    label = results[i][\"prediction_label_idx\"]\n",
    "    label_groups[label].append(i)"
   ]
  },
  {
   "cell_type": "code",
   "execution_count": 55,
   "id": "582d7c01",
   "metadata": {},
   "outputs": [
    {
     "data": {
      "text/plain": [
       "{11: 0,\n",
       " 40: 8,\n",
       " 12: 6,\n",
       " 13: 9,\n",
       " 32: 11,\n",
       " 31: 10,\n",
       " 17: 11,\n",
       " 64: 10,\n",
       " 34: 4,\n",
       " 46: 7,\n",
       " 36: 0,\n",
       " 55: 3,\n",
       " 4: 1,\n",
       " 1: 10,\n",
       " 14: 8,\n",
       " 33: 9,\n",
       " 41: 2,\n",
       " 24: 10,\n",
       " 49: 6,\n",
       " 22: 2,\n",
       " 23: 8,\n",
       " 56: 10,\n",
       " 59: 6,\n",
       " 47: 4,\n",
       " 8: 0,\n",
       " 53: 5,\n",
       " 60: 6,\n",
       " 75: 4,\n",
       " 27: 4,\n",
       " 76: 11,\n",
       " 15: 5,\n",
       " 66: 0,\n",
       " 67: 7,\n",
       " 54: 9,\n",
       " 72: 8,\n",
       " 10: 5,\n",
       " 61: 3,\n",
       " 25: 5,\n",
       " 57: 6,\n",
       " 6: 4,\n",
       " 16: 2,\n",
       " 30: 3,\n",
       " 74: 7,\n",
       " 68: 7,\n",
       " 38: 6,\n",
       " 73: 5,\n",
       " 9: 5,\n",
       " 65: 9,\n",
       " 62: 6,\n",
       " 42: 1,\n",
       " 29: 8,\n",
       " 3: 11,\n",
       " 28: 0,\n",
       " 44: 9,\n",
       " 26: 11,\n",
       " 45: 5,\n",
       " 52: 8,\n",
       " 50: 10,\n",
       " 7: 10,\n",
       " 51: 4,\n",
       " 48: 7,\n",
       " 18: 11,\n",
       " 63: 5,\n",
       " 70: 7,\n",
       " 5: 7,\n",
       " 21: 3,\n",
       " 35: 0,\n",
       " 71: 1,\n",
       " 39: 9,\n",
       " 58: 11,\n",
       " 43: 5,\n",
       " 37: 8,\n",
       " 20: 2,\n",
       " 0: 9,\n",
       " 19: 11,\n",
       " 2: 1,\n",
       " 69: 7}"
      ]
     },
     "execution_count": 55,
     "metadata": {},
     "output_type": "execute_result"
    }
   ],
   "source": [
    "from collections import Counter\n",
    "\n",
    "# Now, map each label group to the clusters they belong to\n",
    "label_to_clusters = {label: [assigned_clusters[idx] for idx in group] \n",
    "                        for label, group in label_groups.items()}\n",
    "\n",
    "label_to_cluster = dict()\n",
    "# Then, map the cluster list to count of different clusters\n",
    "for label, clusters in label_to_clusters.items():\n",
    "    counts = Counter(clusters)\n",
    "    value, count = counts.most_common()[0]\n",
    "    label_to_cluster[label] = value\n",
    "\n",
    "label_to_cluster"
   ]
  },
  {
   "cell_type": "code",
   "execution_count": 56,
   "id": "0c650330",
   "metadata": {},
   "outputs": [
    {
     "data": {
      "text/plain": [
       "(3080, 3080, 3080)"
      ]
     },
     "execution_count": 56,
     "metadata": {},
     "output_type": "execute_result"
    }
   ],
   "source": [
    "if len(le.classes_) < NUM_CLUSTERS:\n",
    "    label_clusters = assigned_clusters\n",
    "else:\n",
    "    label_clusters = [label_to_cluster[label] for label in prediction_idxs]\n",
    "    \n",
    "len(label_clusters), len(assigned_clusters), len(results)"
   ]
  },
  {
   "cell_type": "code",
   "execution_count": 57,
   "id": "e8158e3b",
   "metadata": {},
   "outputs": [
    {
     "data": {
      "text/plain": [
       "[18, 23, 19, 13, 20, 14, 17, 14, 16, 21, 13, 9]"
      ]
     },
     "execution_count": 57,
     "metadata": {},
     "output_type": "execute_result"
    }
   ],
   "source": [
    "from collections import defaultdict\n",
    "\n",
    "cluster_to_labels = defaultdict(set)\n",
    "for label, clusters in label_to_clusters.items():\n",
    "    for cluster in clusters:\n",
    "        cluster_to_labels[cluster].add(label)\n",
    "\n",
    "[len(s) for s in cluster_to_labels.values()]"
   ]
  },
  {
   "cell_type": "code",
   "execution_count": 58,
   "id": "79f51e74",
   "metadata": {},
   "outputs": [],
   "source": [
    "for i in range(len(results)):\n",
    "    results[i].update(dict(label_cluster=label_clusters[i], instance_cluster=assigned_clusters[i]))"
   ]
  },
  {
   "cell_type": "markdown",
   "id": "e9fd6172",
   "metadata": {},
   "source": [
    "### Save data"
   ]
  },
  {
   "cell_type": "code",
   "execution_count": 61,
   "id": "0b9f9fd0",
   "metadata": {},
   "outputs": [
    {
     "name": "stdout",
     "output_type": "stream",
     "text": [
      "Saved to results/banking77-with-BERT-Banking77/banking77-viz_data-12-clusters-label_cluster_chosen_by_majority_in-predicted-label-with-BERT-Banking77.json\n"
     ]
    }
   ],
   "source": [
    "import json\n",
    "\n",
    "label_grouping = \"predicted\"\n",
    "# model_type = \"gpt\"\n",
    "fname = output_dir + \"/\" + dataset_name_short + \"-viz_data-\" + str(NUM_CLUSTERS) + \"-clusters-label_cluster_chosen_by_majority_in-\" + label_grouping + \"-label-with-\" + model_name_short + \".json\"\n",
    "\n",
    "with open(fname, \"w\") as f:\n",
    "    json.dump(results, f)\n",
    "    print(\"Saved to\", fname)"
   ]
  }
 ],
 "metadata": {
  "kernelspec": {
   "display_name": "Python 3",
   "language": "python",
   "name": "python3"
  },
  "language_info": {
   "codemirror_mode": {
    "name": "ipython",
    "version": 3
   },
   "file_extension": ".py",
   "mimetype": "text/x-python",
   "name": "python",
   "nbconvert_exporter": "python",
   "pygments_lexer": "ipython3",
   "version": "3.6.13"
  }
 },
 "nbformat": 4,
 "nbformat_minor": 5
}
